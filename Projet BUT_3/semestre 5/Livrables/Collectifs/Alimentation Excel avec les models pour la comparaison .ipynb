{
  "nbformat": 4,
  "nbformat_minor": 0,
  "metadata": {
    "colab": {
      "provenance": [],
      "gpuType": "T4"
    },
    "kernelspec": {
      "name": "python3",
      "display_name": "Python 3"
    },
    "language_info": {
      "name": "python"
    },
    "accelerator": "GPU"
  },
  "cells": [
    {
      "cell_type": "code",
      "execution_count": null,
      "metadata": {
        "colab": {
          "base_uri": "https://localhost:8080/"
        },
        "id": "6cmL1tI6egdb",
        "outputId": "63c5e400-cdea-42b7-a4f0-349a53878c8c"
      },
      "outputs": [
        {
          "output_type": "stream",
          "name": "stdout",
          "text": [
            "Collecting keras-nlp\n",
            "  Downloading keras_nlp-0.8.2-py3-none-any.whl (465 kB)\n",
            "\u001b[2K     \u001b[90m━━━━━━━━━━━━━━━━━━━━━━━━━━━━━━━━━━━━━━━━\u001b[0m \u001b[32m465.3/465.3 kB\u001b[0m \u001b[31m7.3 MB/s\u001b[0m eta \u001b[36m0:00:00\u001b[0m\n",
            "\u001b[?25hCollecting keras-core (from keras-nlp)\n",
            "  Downloading keras_core-0.1.7-py3-none-any.whl (950 kB)\n",
            "\u001b[2K     \u001b[90m━━━━━━━━━━━━━━━━━━━━━━━━━━━━━━━━━━━━━━━━\u001b[0m \u001b[32m950.8/950.8 kB\u001b[0m \u001b[31m15.9 MB/s\u001b[0m eta \u001b[36m0:00:00\u001b[0m\n",
            "\u001b[?25hRequirement already satisfied: absl-py in /usr/local/lib/python3.10/dist-packages (from keras-nlp) (1.4.0)\n",
            "Requirement already satisfied: numpy in /usr/local/lib/python3.10/dist-packages (from keras-nlp) (1.25.2)\n",
            "Requirement already satisfied: packaging in /usr/local/lib/python3.10/dist-packages (from keras-nlp) (23.2)\n",
            "Requirement already satisfied: regex in /usr/local/lib/python3.10/dist-packages (from keras-nlp) (2023.12.25)\n",
            "Requirement already satisfied: rich in /usr/local/lib/python3.10/dist-packages (from keras-nlp) (13.7.1)\n",
            "Requirement already satisfied: dm-tree in /usr/local/lib/python3.10/dist-packages (from keras-nlp) (0.1.8)\n",
            "Requirement already satisfied: kagglehub in /usr/local/lib/python3.10/dist-packages (from keras-nlp) (0.2.0)\n",
            "Collecting tensorflow-text (from keras-nlp)\n",
            "  Downloading tensorflow_text-2.15.0-cp310-cp310-manylinux_2_17_x86_64.manylinux2014_x86_64.whl (5.2 MB)\n",
            "\u001b[2K     \u001b[90m━━━━━━━━━━━━━━━━━━━━━━━━━━━━━━━━━━━━━━━━\u001b[0m \u001b[32m5.2/5.2 MB\u001b[0m \u001b[31m33.4 MB/s\u001b[0m eta \u001b[36m0:00:00\u001b[0m\n",
            "\u001b[?25hRequirement already satisfied: requests in /usr/local/lib/python3.10/dist-packages (from kagglehub->keras-nlp) (2.31.0)\n",
            "Requirement already satisfied: tqdm in /usr/local/lib/python3.10/dist-packages (from kagglehub->keras-nlp) (4.66.2)\n",
            "Collecting namex (from keras-core->keras-nlp)\n",
            "  Downloading namex-0.0.7-py3-none-any.whl (5.8 kB)\n",
            "Requirement already satisfied: h5py in /usr/local/lib/python3.10/dist-packages (from keras-core->keras-nlp) (3.9.0)\n",
            "Requirement already satisfied: markdown-it-py>=2.2.0 in /usr/local/lib/python3.10/dist-packages (from rich->keras-nlp) (3.0.0)\n",
            "Requirement already satisfied: pygments<3.0.0,>=2.13.0 in /usr/local/lib/python3.10/dist-packages (from rich->keras-nlp) (2.16.1)\n",
            "Requirement already satisfied: tensorflow-hub>=0.13.0 in /usr/local/lib/python3.10/dist-packages (from tensorflow-text->keras-nlp) (0.16.1)\n",
            "Requirement already satisfied: tensorflow<2.16,>=2.15.0 in /usr/local/lib/python3.10/dist-packages (from tensorflow-text->keras-nlp) (2.15.0)\n",
            "Requirement already satisfied: mdurl~=0.1 in /usr/local/lib/python3.10/dist-packages (from markdown-it-py>=2.2.0->rich->keras-nlp) (0.1.2)\n",
            "Requirement already satisfied: astunparse>=1.6.0 in /usr/local/lib/python3.10/dist-packages (from tensorflow<2.16,>=2.15.0->tensorflow-text->keras-nlp) (1.6.3)\n",
            "Requirement already satisfied: flatbuffers>=23.5.26 in /usr/local/lib/python3.10/dist-packages (from tensorflow<2.16,>=2.15.0->tensorflow-text->keras-nlp) (23.5.26)\n",
            "Requirement already satisfied: gast!=0.5.0,!=0.5.1,!=0.5.2,>=0.2.1 in /usr/local/lib/python3.10/dist-packages (from tensorflow<2.16,>=2.15.0->tensorflow-text->keras-nlp) (0.5.4)\n",
            "Requirement already satisfied: google-pasta>=0.1.1 in /usr/local/lib/python3.10/dist-packages (from tensorflow<2.16,>=2.15.0->tensorflow-text->keras-nlp) (0.2.0)\n",
            "Requirement already satisfied: libclang>=13.0.0 in /usr/local/lib/python3.10/dist-packages (from tensorflow<2.16,>=2.15.0->tensorflow-text->keras-nlp) (16.0.6)\n",
            "Requirement already satisfied: ml-dtypes~=0.2.0 in /usr/local/lib/python3.10/dist-packages (from tensorflow<2.16,>=2.15.0->tensorflow-text->keras-nlp) (0.2.0)\n",
            "Requirement already satisfied: opt-einsum>=2.3.2 in /usr/local/lib/python3.10/dist-packages (from tensorflow<2.16,>=2.15.0->tensorflow-text->keras-nlp) (3.3.0)\n",
            "Requirement already satisfied: protobuf!=4.21.0,!=4.21.1,!=4.21.2,!=4.21.3,!=4.21.4,!=4.21.5,<5.0.0dev,>=3.20.3 in /usr/local/lib/python3.10/dist-packages (from tensorflow<2.16,>=2.15.0->tensorflow-text->keras-nlp) (3.20.3)\n",
            "Requirement already satisfied: setuptools in /usr/local/lib/python3.10/dist-packages (from tensorflow<2.16,>=2.15.0->tensorflow-text->keras-nlp) (67.7.2)\n",
            "Requirement already satisfied: six>=1.12.0 in /usr/local/lib/python3.10/dist-packages (from tensorflow<2.16,>=2.15.0->tensorflow-text->keras-nlp) (1.16.0)\n",
            "Requirement already satisfied: termcolor>=1.1.0 in /usr/local/lib/python3.10/dist-packages (from tensorflow<2.16,>=2.15.0->tensorflow-text->keras-nlp) (2.4.0)\n",
            "Requirement already satisfied: typing-extensions>=3.6.6 in /usr/local/lib/python3.10/dist-packages (from tensorflow<2.16,>=2.15.0->tensorflow-text->keras-nlp) (4.10.0)\n",
            "Requirement already satisfied: wrapt<1.15,>=1.11.0 in /usr/local/lib/python3.10/dist-packages (from tensorflow<2.16,>=2.15.0->tensorflow-text->keras-nlp) (1.14.1)\n",
            "Requirement already satisfied: tensorflow-io-gcs-filesystem>=0.23.1 in /usr/local/lib/python3.10/dist-packages (from tensorflow<2.16,>=2.15.0->tensorflow-text->keras-nlp) (0.36.0)\n",
            "Requirement already satisfied: grpcio<2.0,>=1.24.3 in /usr/local/lib/python3.10/dist-packages (from tensorflow<2.16,>=2.15.0->tensorflow-text->keras-nlp) (1.62.0)\n",
            "Requirement already satisfied: tensorboard<2.16,>=2.15 in /usr/local/lib/python3.10/dist-packages (from tensorflow<2.16,>=2.15.0->tensorflow-text->keras-nlp) (2.15.2)\n",
            "Requirement already satisfied: tensorflow-estimator<2.16,>=2.15.0 in /usr/local/lib/python3.10/dist-packages (from tensorflow<2.16,>=2.15.0->tensorflow-text->keras-nlp) (2.15.0)\n",
            "Requirement already satisfied: keras<2.16,>=2.15.0 in /usr/local/lib/python3.10/dist-packages (from tensorflow<2.16,>=2.15.0->tensorflow-text->keras-nlp) (2.15.0)\n",
            "Requirement already satisfied: tf-keras>=2.14.1 in /usr/local/lib/python3.10/dist-packages (from tensorflow-hub>=0.13.0->tensorflow-text->keras-nlp) (2.15.0)\n",
            "Requirement already satisfied: charset-normalizer<4,>=2 in /usr/local/lib/python3.10/dist-packages (from requests->kagglehub->keras-nlp) (3.3.2)\n",
            "Requirement already satisfied: idna<4,>=2.5 in /usr/local/lib/python3.10/dist-packages (from requests->kagglehub->keras-nlp) (3.6)\n",
            "Requirement already satisfied: urllib3<3,>=1.21.1 in /usr/local/lib/python3.10/dist-packages (from requests->kagglehub->keras-nlp) (2.0.7)\n",
            "Requirement already satisfied: certifi>=2017.4.17 in /usr/local/lib/python3.10/dist-packages (from requests->kagglehub->keras-nlp) (2024.2.2)\n",
            "Requirement already satisfied: wheel<1.0,>=0.23.0 in /usr/local/lib/python3.10/dist-packages (from astunparse>=1.6.0->tensorflow<2.16,>=2.15.0->tensorflow-text->keras-nlp) (0.42.0)\n",
            "Requirement already satisfied: google-auth<3,>=1.6.3 in /usr/local/lib/python3.10/dist-packages (from tensorboard<2.16,>=2.15->tensorflow<2.16,>=2.15.0->tensorflow-text->keras-nlp) (2.27.0)\n",
            "Requirement already satisfied: google-auth-oauthlib<2,>=0.5 in /usr/local/lib/python3.10/dist-packages (from tensorboard<2.16,>=2.15->tensorflow<2.16,>=2.15.0->tensorflow-text->keras-nlp) (1.2.0)\n",
            "Requirement already satisfied: markdown>=2.6.8 in /usr/local/lib/python3.10/dist-packages (from tensorboard<2.16,>=2.15->tensorflow<2.16,>=2.15.0->tensorflow-text->keras-nlp) (3.5.2)\n",
            "Requirement already satisfied: tensorboard-data-server<0.8.0,>=0.7.0 in /usr/local/lib/python3.10/dist-packages (from tensorboard<2.16,>=2.15->tensorflow<2.16,>=2.15.0->tensorflow-text->keras-nlp) (0.7.2)\n",
            "Requirement already satisfied: werkzeug>=1.0.1 in /usr/local/lib/python3.10/dist-packages (from tensorboard<2.16,>=2.15->tensorflow<2.16,>=2.15.0->tensorflow-text->keras-nlp) (3.0.1)\n",
            "Requirement already satisfied: cachetools<6.0,>=2.0.0 in /usr/local/lib/python3.10/dist-packages (from google-auth<3,>=1.6.3->tensorboard<2.16,>=2.15->tensorflow<2.16,>=2.15.0->tensorflow-text->keras-nlp) (5.3.3)\n",
            "Requirement already satisfied: pyasn1-modules>=0.2.1 in /usr/local/lib/python3.10/dist-packages (from google-auth<3,>=1.6.3->tensorboard<2.16,>=2.15->tensorflow<2.16,>=2.15.0->tensorflow-text->keras-nlp) (0.3.0)\n",
            "Requirement already satisfied: rsa<5,>=3.1.4 in /usr/local/lib/python3.10/dist-packages (from google-auth<3,>=1.6.3->tensorboard<2.16,>=2.15->tensorflow<2.16,>=2.15.0->tensorflow-text->keras-nlp) (4.9)\n",
            "Requirement already satisfied: requests-oauthlib>=0.7.0 in /usr/local/lib/python3.10/dist-packages (from google-auth-oauthlib<2,>=0.5->tensorboard<2.16,>=2.15->tensorflow<2.16,>=2.15.0->tensorflow-text->keras-nlp) (1.3.1)\n",
            "Requirement already satisfied: MarkupSafe>=2.1.1 in /usr/local/lib/python3.10/dist-packages (from werkzeug>=1.0.1->tensorboard<2.16,>=2.15->tensorflow<2.16,>=2.15.0->tensorflow-text->keras-nlp) (2.1.5)\n",
            "Requirement already satisfied: pyasn1<0.6.0,>=0.4.6 in /usr/local/lib/python3.10/dist-packages (from pyasn1-modules>=0.2.1->google-auth<3,>=1.6.3->tensorboard<2.16,>=2.15->tensorflow<2.16,>=2.15.0->tensorflow-text->keras-nlp) (0.5.1)\n",
            "Requirement already satisfied: oauthlib>=3.0.0 in /usr/local/lib/python3.10/dist-packages (from requests-oauthlib>=0.7.0->google-auth-oauthlib<2,>=0.5->tensorboard<2.16,>=2.15->tensorflow<2.16,>=2.15.0->tensorflow-text->keras-nlp) (3.2.2)\n",
            "Installing collected packages: namex, keras-core, tensorflow-text, keras-nlp\n",
            "Successfully installed keras-core-0.1.7 keras-nlp-0.8.2 namex-0.0.7 tensorflow-text-2.15.0\n",
            "Requirement already satisfied: pandas in /usr/local/lib/python3.10/dist-packages (1.5.3)\n",
            "Requirement already satisfied: python-dateutil>=2.8.1 in /usr/local/lib/python3.10/dist-packages (from pandas) (2.8.2)\n",
            "Requirement already satisfied: pytz>=2020.1 in /usr/local/lib/python3.10/dist-packages (from pandas) (2023.4)\n",
            "Requirement already satisfied: numpy>=1.21.0 in /usr/local/lib/python3.10/dist-packages (from pandas) (1.25.2)\n",
            "Requirement already satisfied: six>=1.5 in /usr/local/lib/python3.10/dist-packages (from python-dateutil>=2.8.1->pandas) (1.16.0)\n",
            "\u001b[2K     \u001b[90m━━━━━━━━━━━━━━━━━━━━━━━━━━━━━━━━━━━━━━━━\u001b[0m \u001b[32m1.0/1.0 MB\u001b[0m \u001b[31m6.7 MB/s\u001b[0m eta \u001b[36m0:00:00\u001b[0m\n",
            "\u001b[?25h\u001b[31mERROR: pip's dependency resolver does not currently take into account all the packages that are installed. This behaviour is the source of the following dependency conflicts.\n",
            "tensorflow 2.15.0 requires keras<2.16,>=2.15.0, but you have keras 3.0.5 which is incompatible.\u001b[0m\u001b[31m\n",
            "\u001b[0m"
          ]
        }
      ],
      "source": [
        "!pip install keras-nlp\n",
        "!pip install pandas\n",
        "!pip install -q --upgrade keras"
      ]
    },
    {
      "cell_type": "code",
      "source": [
        "import os\n",
        "import time\n",
        "import keras\n",
        "import keras_nlp\n",
        "import pandas as pd\n",
        "import tensorflow as tf\n",
        "import os\n",
        "from google.colab import drive\n",
        "from openpyxl import Workbook\n",
        "from openpyxl import load_workbook\n",
        "\n",
        "os.environ[\"KERAS_BACKEND\"] = \"tensorflow\"\n",
        "\n",
        "# Mount Google Drive\n",
        "drive.mount('/content/drive')\n",
        "keras.mixed_precision.set_global_policy(\"mixed_float16\")"
      ],
      "metadata": {
        "colab": {
          "base_uri": "https://localhost:8080/"
        },
        "id": "U6fKLJ_Ae0iX",
        "outputId": "e0985801-b8fc-4d91-f205-1c25edd7b5c3"
      },
      "execution_count": null,
      "outputs": [
        {
          "output_type": "stream",
          "name": "stdout",
          "text": [
            "Mounted at /content/drive\n"
          ]
        }
      ]
    },
    {
      "cell_type": "markdown",
      "source": [
        "# GPT2 - Large"
      ],
      "metadata": {
        "id": "ImHyLuaTsNTL"
      }
    },
    {
      "cell_type": "code",
      "source": [
        "preprocessor_large = keras_nlp.models.GPT2CausalLMPreprocessor.from_preset(\n",
        "    \"gpt2_large_en\",\n",
        ")\n",
        "gpt2_large = keras_nlp.models.GPT2CausalLM.from_preset(\n",
        "    \"gpt2_large_en\", preprocessor=preprocessor_large\n",
        ")\n"
      ],
      "metadata": {
        "id": "9YhzI6k8uK1O"
      },
      "execution_count": null,
      "outputs": []
    },
    {
      "cell_type": "code",
      "source": [
        "wb = Workbook()\n",
        "wb = load_workbook(filename='/content/drive/MyDrive/stat.xlsx')\n",
        "sheet = wb['Feuil1']\n",
        "\n",
        "# GPT 2 - Large\n",
        "i=2\n",
        "for cell in sheet['A'][1:]:\n",
        "    print(i-1, cell.value)\n",
        "    sheet['B' + str(i) ] = gpt2_large.generate(cell.value, max_length=280)\n",
        "    wb.save('/content/drive/MyDrive/stat.xlsx')\n",
        "    i+=1\n",
        "    if i > 31:\n",
        "      break\n",
        "wb.close()\n"
      ],
      "metadata": {
        "id": "aUryJ6CDuMcu",
        "colab": {
          "base_uri": "https://localhost:8080/"
        },
        "outputId": "389f6a00-598c-4fcf-941e-7322f41009b9"
      },
      "execution_count": null,
      "outputs": [
        {
          "output_type": "stream",
          "name": "stdout",
          "text": [
            "1 What are the common causes of headaches?\n",
            "2 How do over-the-counter pain relievers like ibuprofen work?\n",
            "3 Can you explain the symptoms of a migraine?\n",
            "4 What are the potential side effects of long-term medication use?\n",
            "5 What are the differences between viral and bacterial infections?\n",
            "6 Can you describe the stages of wound healing?\n",
            "7 What is the significance of a healthy diet in preventing illness?\n",
            "8 How does exercise affect mental health?\n",
            "9 What are the warning signs of a heart attack?\n",
            "10 How do vaccines work to prevent disease?\n",
            "11 What is the role of antibiotics in treating bacterial infections?\n",
            "12 Can you explain the concept of antibiotic resistance?\n",
            "13 What are the symptoms of an allergic reaction?\n",
            "14 How does diabetes affect the body?\n",
            "15 What measures can be taken to prevent the spread of infectious diseases?\n",
            "16 What are the different types of pain management techniques?\n",
            "17 Can you describe the process of diagnosing a medical condition?\n",
            "18 What are the potential complications of untreated hypertension?\n",
            "19 How does smoking impact respiratory health?\n",
            "20 What are the stages of cancer development?\n",
            "21 Can you explain the function of the immune system?\n",
            "22 What are the common symptoms of depression?\n",
            "23 How does alcohol consumption affect liver function?\n",
            "24 Can you describe the treatment options for chronic pain?\n",
            "25 What is the significance of regular medical check-ups?\n",
            "26 How does sleep deprivation affect overall health?\n",
            "27 What are the signs of a stroke?\n",
            "28 Can you explain the difference between acute and chronic illnesses?\n",
            "29 How does stress impact the immune system's ability to fight off infections?\n",
            "30 What are the primary risk factors associated with hypertension (high blood pressure)?\n"
          ]
        }
      ]
    },
    {
      "cell_type": "markdown",
      "source": [
        "# Without lora model"
      ],
      "metadata": {
        "id": "grk1rOL3sReP"
      }
    },
    {
      "cell_type": "code",
      "source": [
        "# Function to generate responses from the model\n",
        "def generate_responses(model, question):\n",
        "    prompt = f\"Patient: \\\"{question}\\\"\\nDoctor:\"\n",
        "    # Generate the answer from the model and then clean and extract the real model's response from the prompt engineered string\n",
        "    output = clean_answer_text(model.generate(prompt, max_length=1024))\n",
        "    return output\n",
        "\n",
        "# Function clean the output of the model from the prompt engineering done in the \"generate_responses\" function\n",
        "def clean_answer_text(text: str) -> str:\n",
        "    # Define the start marker for the model's response\n",
        "    doctor_response_start = text.find(\"Doctor:\") + len(\"Doctor:\")\n",
        "    # Extract everything after \"Doctor:\"\n",
        "    response_text = text[doctor_response_start:].strip()\n",
        "    # If there's a follow-up \"Patient:\" in the response, cut the response there\n",
        "    follow_up_index = response_text.find(\"\\nPatient:\")\n",
        "    if follow_up_index != -1:\n",
        "        response_text = response_text[:follow_up_index]\n",
        "    # If there's no follow-up \"Patient:\", cut the response to the last dot (.)\n",
        "    else:\n",
        "        last_dot_index = response_text.rfind(\".\")\n",
        "        if last_dot_index != -1:\n",
        "            response_text = response_text[:last_dot_index + 1]\n",
        "    # Additional cleaning if necessary (e.g., removing leading/trailing spaces or new lines)\n",
        "    response_text = response_text.strip()\n",
        "    response_text = response_text.replace(\"Doctor: \",\"\")\n",
        "    return response_text"
      ],
      "metadata": {
        "id": "IY-HPM7G0SeN"
      },
      "execution_count": null,
      "outputs": []
    },
    {
      "cell_type": "code",
      "source": [
        "without_lora_model = keras.models.load_model(\"/content/drive/My Drive/SAE/Without_LoRA_Model_V1.keras\")"
      ],
      "metadata": {
        "id": "lUdUITlfsQp8",
        "colab": {
          "base_uri": "https://localhost:8080/"
        },
        "outputId": "0665a49a-a521-453e-8e33-f44868d4309b"
      },
      "execution_count": null,
      "outputs": [
        {
          "output_type": "stream",
          "name": "stderr",
          "text": [
            "/usr/local/lib/python3.10/dist-packages/keras/src/saving/serialization_lib.py:727: UserWarning: `compile()` was not called as part of model loading because the model's `compile()` method is custom. All subclassed Models that have `compile()` overridden should also override `get_compile_config()` and `compile_from_config(config)`. Alternatively, you can call `compile()` manually after loading.\n",
            "  instance.compile_from_config(compile_config)\n",
            "/usr/local/lib/python3.10/dist-packages/keras/src/saving/saving_lib.py:396: UserWarning: Skipping variable loading for optimizer 'loss_scale_optimizer', because it has 4 variables whereas the saved optimizer has 0 variables. \n",
            "  trackable.load_own_variables(weights_store.get(inner_path))\n",
            "/usr/local/lib/python3.10/dist-packages/keras/src/saving/saving_lib.py:396: UserWarning: Skipping variable loading for optimizer 'adam', because it has 2 variables whereas the saved optimizer has 0 variables. \n",
            "  trackable.load_own_variables(weights_store.get(inner_path))\n"
          ]
        }
      ]
    },
    {
      "cell_type": "code",
      "source": [
        "wb = Workbook()\n",
        "wb = load_workbook(filename='/content/drive/My Drive/stat.xlsx')\n",
        "sheet = wb['Feuil1']\n",
        "\n",
        "#Without_LoRA_Model_V1.keras\n",
        "i=2\n",
        "for cell in sheet['A'][1:]:\n",
        "    print(i-1, cell.value)\n",
        "    sheet['C' + str(i) ] = generate_responses(without_lora_model, cell.value)\n",
        "    wb.save('/content/drive/My Drive/stat.xlsx')\n",
        "    i+=1\n",
        "    if i > 31:\n",
        "      break\n",
        "wb.close()"
      ],
      "metadata": {
        "colab": {
          "base_uri": "https://localhost:8080/"
        },
        "id": "T7ov6o9Cstff",
        "outputId": "a0bd482b-db2e-4a33-d2ca-fd2d2bccb0ec"
      },
      "execution_count": null,
      "outputs": [
        {
          "output_type": "stream",
          "name": "stdout",
          "text": [
            "1 What are the common causes of headaches?\n",
            "2 How do over-the-counter pain relievers like ibuprofen work?\n",
            "3 Can you explain the symptoms of a migraine?\n",
            "4 What are the potential side effects of long-term medication use?\n",
            "5 What are the differences between viral and bacterial infections?\n",
            "6 Can you describe the stages of wound healing?\n",
            "7 What is the significance of a healthy diet in preventing illness?\n",
            "8 How does exercise affect mental health?\n",
            "9 What are the warning signs of a heart attack?\n",
            "10 How do vaccines work to prevent disease?\n",
            "11 What is the role of antibiotics in treating bacterial infections?\n",
            "12 Can you explain the concept of antibiotic resistance?\n",
            "13 What are the symptoms of an allergic reaction?\n",
            "14 How does diabetes affect the body?\n",
            "15 What measures can be taken to prevent the spread of infectious diseases?\n",
            "16 What are the different types of pain management techniques?\n",
            "17 Can you describe the process of diagnosing a medical condition?\n",
            "18 What are the potential complications of untreated hypertension?\n",
            "19 How does smoking impact respiratory health?\n",
            "20 What are the stages of cancer development?\n",
            "21 Can you explain the function of the immune system?\n",
            "22 What are the common symptoms of depression?\n",
            "23 How does alcohol consumption affect liver function?\n",
            "24 Can you describe the treatment options for chronic pain?\n",
            "25 What is the significance of regular medical check-ups?\n",
            "26 How does sleep deprivation affect overall health?\n",
            "27 What are the signs of a stroke?\n",
            "28 Can you explain the difference between acute and chronic illnesses?\n",
            "29 How does stress impact the immune system's ability to fight off infections?\n",
            "30 What are the primary risk factors associated with hypertension (high blood pressure)?\n"
          ]
        }
      ]
    },
    {
      "cell_type": "markdown",
      "source": [
        "# LoRA_Model_V1"
      ],
      "metadata": {
        "id": "ydtdDr1XsYZ3"
      }
    },
    {
      "cell_type": "code",
      "source": [
        "# Function to generate responses from the model\n",
        "def generate_responses(model, question):\n",
        "    prompt = f\"Patient: \\\"{question}\\\"\\nDoctor:\"\n",
        "    # Generate the answer from the model and then clean and extract the real model's response from the prompt engineered string\n",
        "    output = clean_answer_text(model.generate(prompt, max_length=1024))\n",
        "    return output\n",
        "\n",
        "# Function clean the output of the model from the prompt engineering done in the \"generate_responses\" function\n",
        "def clean_answer_text(text: str) -> str:\n",
        "    # Define the start marker for the model's response\n",
        "    doctor_response_start = text.find(\"Doctor:\") + len(\"Doctor:\")\n",
        "    # Extract everything after \"Doctor:\"\n",
        "    response_text = text[doctor_response_start:].strip()\n",
        "    # If there's a follow-up \"Patient:\" in the response, cut the response there\n",
        "    follow_up_index = response_text.find(\"\\nPatient:\")\n",
        "    if follow_up_index != -1:\n",
        "        response_text = response_text[:follow_up_index]\n",
        "    # If there's no follow-up \"Patient:\", cut the response to the last dot (.)\n",
        "    else:\n",
        "        last_dot_index = response_text.rfind(\".\")\n",
        "        if last_dot_index != -1:\n",
        "            response_text = response_text[:last_dot_index + 1]\n",
        "    # Additional cleaning if necessary (e.g., removing leading/trailing spaces or new lines)\n",
        "    response_text = response_text.strip()\n",
        "    response_text = response_text.replace(\"Doctor: \",\"\")\n",
        "    return response_text"
      ],
      "metadata": {
        "id": "9rM5yL2o0U_I"
      },
      "execution_count": null,
      "outputs": []
    },
    {
      "cell_type": "code",
      "source": [
        "model_v1 = keras.models.load_model(\"/content/drive/MyDrive/SAE/LoRA_Model_V1.keras\")"
      ],
      "metadata": {
        "id": "4w6b92HgfBJJ",
        "colab": {
          "base_uri": "https://localhost:8080/"
        },
        "outputId": "0caba74c-76cc-4ad2-b984-9f50f800b90e"
      },
      "execution_count": null,
      "outputs": [
        {
          "output_type": "stream",
          "name": "stderr",
          "text": [
            "/usr/local/lib/python3.10/dist-packages/keras/src/saving/serialization_lib.py:727: UserWarning: `compile()` was not called as part of model loading because the model's `compile()` method is custom. All subclassed Models that have `compile()` overridden should also override `get_compile_config()` and `compile_from_config(config)`. Alternatively, you can call `compile()` manually after loading.\n",
            "  instance.compile_from_config(compile_config)\n",
            "/usr/local/lib/python3.10/dist-packages/keras/src/saving/saving_lib.py:396: UserWarning: Skipping variable loading for optimizer 'loss_scale_optimizer', because it has 4 variables whereas the saved optimizer has 0 variables. \n",
            "  trackable.load_own_variables(weights_store.get(inner_path))\n",
            "/usr/local/lib/python3.10/dist-packages/keras/src/saving/saving_lib.py:396: UserWarning: Skipping variable loading for optimizer 'adam', because it has 2 variables whereas the saved optimizer has 0 variables. \n",
            "  trackable.load_own_variables(weights_store.get(inner_path))\n"
          ]
        }
      ]
    },
    {
      "cell_type": "code",
      "source": [
        "wb = Workbook()\n",
        "wb = load_workbook(filename='/content/drive/MyDrive/SAE/stat.xlsx')\n",
        "sheet = wb['Feuil1']\n",
        "\n",
        "#LoRA_Model_V1.keras\n",
        "i=2\n",
        "for cell in sheet['A'][1:]:\n",
        "    print(i-1, cell.value)\n",
        "    sheet['D' + str(i) ] = generate_responses(model_v1, cell.value)\n",
        "    wb.save('/content/drive/MyDrive/SAE/stat.xlsx')\n",
        "    i+=1\n",
        "    if i > 31:\n",
        "      break\n",
        "wb.close()\n"
      ],
      "metadata": {
        "colab": {
          "base_uri": "https://localhost:8080/"
        },
        "id": "1QIHJ41fh7x0",
        "outputId": "46c0482c-2d23-4a51-9402-148102589204"
      },
      "execution_count": null,
      "outputs": [
        {
          "output_type": "stream",
          "name": "stdout",
          "text": [
            "1 What are the common causes of headaches?\n",
            "2 How do over-the-counter pain relievers like ibuprofen work?\n",
            "3 Can you explain the symptoms of a migraine?\n",
            "4 What are the potential side effects of long-term medication use?\n",
            "5 What are the differences between viral and bacterial infections?\n",
            "6 Can you describe the stages of wound healing?\n",
            "7 What is the significance of a healthy diet in preventing illness?\n",
            "8 How does exercise affect mental health?\n",
            "9 What are the warning signs of a heart attack?\n",
            "10 How do vaccines work to prevent disease?\n",
            "11 What is the role of antibiotics in treating bacterial infections?\n",
            "12 Can you explain the concept of antibiotic resistance?\n",
            "13 What are the symptoms of an allergic reaction?\n",
            "14 How does diabetes affect the body?\n",
            "15 What measures can be taken to prevent the spread of infectious diseases?\n",
            "16 What are the different types of pain management techniques?\n",
            "17 Can you describe the process of diagnosing a medical condition?\n",
            "18 What are the potential complications of untreated hypertension?\n",
            "19 How does smoking impact respiratory health?\n",
            "20 What are the stages of cancer development?\n",
            "21 Can you explain the function of the immune system?\n",
            "22 What are the common symptoms of depression?\n",
            "23 How does alcohol consumption affect liver function?\n",
            "24 Can you describe the treatment options for chronic pain?\n",
            "25 What is the significance of regular medical check-ups?\n",
            "26 How does sleep deprivation affect overall health?\n",
            "27 What are the signs of a stroke?\n",
            "28 Can you explain the difference between acute and chronic illnesses?\n",
            "29 How does stress impact the immune system's ability to fight off infections?\n",
            "30 What are the primary risk factors associated with hypertension (high blood pressure)?\n"
          ]
        }
      ]
    },
    {
      "cell_type": "markdown",
      "source": [
        "# LoRA_Model_V2"
      ],
      "metadata": {
        "id": "T_mJtt9HscWR"
      }
    },
    {
      "cell_type": "code",
      "source": [
        "# Function to generate responses from the model\n",
        "def generate_responses(model, question):\n",
        "    prompt = f\"Patient: \\\"{question}\\\"\\nDoctor:\"\n",
        "    # Generate the answer from the model and then clean and extract the real model's response from the prompt engineered string\n",
        "    output = clean_answer_text(model.generate(prompt, max_length=1024))\n",
        "    return output\n",
        "\n",
        "# Function clean the output of the model from the prompt engineering done in the \"generate_responses\" function\n",
        "def clean_answer_text(text: str) -> str:\n",
        "    # Define the start marker for the model's response\n",
        "    doctor_response_start = text.find(\"Doctor:\") + len(\"Doctor:\")\n",
        "    # Extract everything after \"Doctor:\"\n",
        "    response_text = text[doctor_response_start:].strip()\n",
        "    # If there's a follow-up \"Patient:\" in the response, cut the response there\n",
        "    follow_up_index = response_text.find(\"\\nPatient:\")\n",
        "    if follow_up_index != -1:\n",
        "        response_text = response_text[:follow_up_index]\n",
        "    # If there's no follow-up \"Patient:\", cut the response to the last dot (.)\n",
        "    else:\n",
        "        last_dot_index = response_text.rfind(\".\")\n",
        "        if last_dot_index != -1:\n",
        "            response_text = response_text[:last_dot_index + 1]\n",
        "    # Additional cleaning if necessary (e.g., removing leading/trailing spaces or new lines)\n",
        "    response_text = response_text.strip()\n",
        "    response_text = response_text.replace(\"Doctor: \",\"\")\n",
        "    return response_text"
      ],
      "metadata": {
        "id": "gVqsYb6H0Vyr"
      },
      "execution_count": null,
      "outputs": []
    },
    {
      "cell_type": "code",
      "source": [
        "model_v2 = keras.models.load_model(\"/content/drive/MyDrive/SAE/LoRA_Model_V2.keras\")"
      ],
      "metadata": {
        "id": "UXgSWgdhgEvo"
      },
      "execution_count": null,
      "outputs": []
    },
    {
      "cell_type": "code",
      "source": [
        "wb = Workbook()\n",
        "wb = load_workbook(filename='/content/drive/MyDrive/SAE/stat.xlsx')\n",
        "sheet = wb['Feuil1']\n",
        "\n",
        "#LoRA_Model_V2.keras\n",
        "i=2\n",
        "for cell in sheet['A'][1:]:\n",
        "    print(i-1, cell.value)\n",
        "    sheet['E' + str(i) ] = generate_responses(model_v2, cell.value)\n",
        "    wb.save('/content/drive/MyDrive/SAE/stat.xlsx')\n",
        "    i+=1\n",
        "    if i > 31:\n",
        "      break\n",
        "wb.close()"
      ],
      "metadata": {
        "id": "_lSOtagAhfzo",
        "colab": {
          "base_uri": "https://localhost:8080/"
        },
        "outputId": "047a6241-91da-4c5d-fb48-aefffe798212"
      },
      "execution_count": null,
      "outputs": [
        {
          "output_type": "stream",
          "name": "stdout",
          "text": [
            "1 What are the common causes of headaches?\n",
            "2 How do over-the-counter pain relievers like ibuprofen work?\n",
            "3 Can you explain the symptoms of a migraine?\n",
            "4 What are the potential side effects of long-term medication use?\n",
            "5 What are the differences between viral and bacterial infections?\n",
            "6 Can you describe the stages of wound healing?\n",
            "7 What is the significance of a healthy diet in preventing illness?\n",
            "8 How does exercise affect mental health?\n",
            "9 What are the warning signs of a heart attack?\n",
            "10 How do vaccines work to prevent disease?\n",
            "11 What is the role of antibiotics in treating bacterial infections?\n",
            "12 Can you explain the concept of antibiotic resistance?\n",
            "13 What are the symptoms of an allergic reaction?\n",
            "14 How does diabetes affect the body?\n",
            "15 What measures can be taken to prevent the spread of infectious diseases?\n",
            "16 What are the different types of pain management techniques?\n",
            "17 Can you describe the process of diagnosing a medical condition?\n",
            "18 What are the potential complications of untreated hypertension?\n",
            "19 How does smoking impact respiratory health?\n",
            "20 What are the stages of cancer development?\n",
            "21 Can you explain the function of the immune system?\n",
            "22 What are the common symptoms of depression?\n",
            "23 How does alcohol consumption affect liver function?\n",
            "24 Can you describe the treatment options for chronic pain?\n",
            "25 What is the significance of regular medical check-ups?\n",
            "26 How does sleep deprivation affect overall health?\n",
            "27 What are the signs of a stroke?\n",
            "28 Can you explain the difference between acute and chronic illnesses?\n",
            "29 How does stress impact the immune system's ability to fight off infections?\n",
            "30 What are the primary risk factors associated with hypertension (high blood pressure)?\n"
          ]
        }
      ]
    },
    {
      "cell_type": "markdown",
      "source": [
        "# LoRA_Model_CP3"
      ],
      "metadata": {
        "id": "flGIxwg1sfMs"
      }
    },
    {
      "cell_type": "code",
      "source": [
        "def clean_answer_text(text: str) -> str:\n",
        "    # Define the start marker for the model's response\n",
        "    response_start = text.find(\"[ANSWER]\") + len(\"[ANSWER]\")\n",
        "\n",
        "    # Extract everything after \"Doctor:\"\n",
        "    response_text = text[response_start:].strip()\n",
        "    last_dot_index = response_text.rfind(\".\")\n",
        "    if last_dot_index != -1:\n",
        "      response_text = response_text[:last_dot_index + 1]\n",
        "\n",
        "    # Additional cleaning if necessary (e.g., removing leading/trailing spaces or new lines)\n",
        "    response_text = response_text.strip()\n",
        "\n",
        "    return response_text\n",
        "\n",
        "\n",
        "def generate_responses(model, question):\n",
        "    prompt = f\"[QUESTION] {question} [ANSWER]\"\n",
        "    output = model.generate(prompt, max_length=1024)\n",
        "    # Clean and extract the model's response from `output`\n",
        "    return clean_answer_text(output)"
      ],
      "metadata": {
        "id": "sja0OwQUz91v"
      },
      "execution_count": null,
      "outputs": []
    },
    {
      "cell_type": "code",
      "source": [
        "model_loraCP3 = keras.models.load_model(\"/content/drive/MyDrive/LoRA_Model_CP3.keras\")"
      ],
      "metadata": {
        "id": "mfCKUVAUcWNe",
        "colab": {
          "base_uri": "https://localhost:8080/"
        },
        "outputId": "3ae3ab72-35e9-46e1-ae9b-e7ba252c9973"
      },
      "execution_count": null,
      "outputs": [
        {
          "output_type": "stream",
          "name": "stderr",
          "text": [
            "/usr/local/lib/python3.10/dist-packages/keras/src/saving/serialization_lib.py:727: UserWarning: `compile()` was not called as part of model loading because the model's `compile()` method is custom. All subclassed Models that have `compile()` overridden should also override `get_compile_config()` and `compile_from_config(config)`. Alternatively, you can call `compile()` manually after loading.\n",
            "  instance.compile_from_config(compile_config)\n",
            "/usr/local/lib/python3.10/dist-packages/keras/src/saving/saving_lib.py:396: UserWarning: Skipping variable loading for optimizer 'loss_scale_optimizer', because it has 4 variables whereas the saved optimizer has 0 variables. \n",
            "  trackable.load_own_variables(weights_store.get(inner_path))\n",
            "/usr/local/lib/python3.10/dist-packages/keras/src/saving/saving_lib.py:396: UserWarning: Skipping variable loading for optimizer 'adam', because it has 2 variables whereas the saved optimizer has 0 variables. \n",
            "  trackable.load_own_variables(weights_store.get(inner_path))\n"
          ]
        }
      ]
    },
    {
      "cell_type": "code",
      "source": [
        "wb = Workbook()\n",
        "wb = load_workbook(filename='/content/drive/MyDrive/stat.xlsx')\n",
        "sheet = wb['Feuil1']\n",
        "\n",
        "\n",
        "i=2\n",
        "for cell in sheet['A'][1:]:\n",
        "    print(i-1, cell.value)\n",
        "    sheet['H' + str(i) ] = generate_responses(model_loraCP3, cell.value)\n",
        "    wb.save('/content/drive/MyDrive/stat.xlsx')\n",
        "    i+=1\n",
        "    if i > 31:\n",
        "      break\n",
        "wb.close()"
      ],
      "metadata": {
        "id": "yfaz_iwLcZsb",
        "colab": {
          "base_uri": "https://localhost:8080/"
        },
        "outputId": "e489965a-7384-446a-8a27-a30e0e07756b"
      },
      "execution_count": null,
      "outputs": [
        {
          "output_type": "stream",
          "name": "stdout",
          "text": [
            "1 What are the common causes of headaches?\n",
            "2 How do over-the-counter pain relievers like ibuprofen work?\n",
            "3 Can you explain the symptoms of a migraine?\n",
            "4 What are the potential side effects of long-term medication use?\n",
            "5 What are the differences between viral and bacterial infections?\n",
            "6 Can you describe the stages of wound healing?\n",
            "7 What is the significance of a healthy diet in preventing illness?\n",
            "8 How does exercise affect mental health?\n",
            "9 What are the warning signs of a heart attack?\n",
            "10 How do vaccines work to prevent disease?\n",
            "11 What is the role of antibiotics in treating bacterial infections?\n",
            "12 Can you explain the concept of antibiotic resistance?\n",
            "13 What are the symptoms of an allergic reaction?\n",
            "14 How does diabetes affect the body?\n",
            "15 What measures can be taken to prevent the spread of infectious diseases?\n",
            "16 What are the different types of pain management techniques?\n",
            "17 Can you describe the process of diagnosing a medical condition?\n",
            "18 What are the potential complications of untreated hypertension?\n",
            "19 How does smoking impact respiratory health?\n",
            "20 What are the stages of cancer development?\n",
            "21 Can you explain the function of the immune system?\n",
            "22 What are the common symptoms of depression?\n",
            "23 How does alcohol consumption affect liver function?\n",
            "24 Can you describe the treatment options for chronic pain?\n",
            "25 What is the significance of regular medical check-ups?\n",
            "26 How does sleep deprivation affect overall health?\n",
            "27 What are the signs of a stroke?\n",
            "28 Can you explain the difference between acute and chronic illnesses?\n",
            "29 How does stress impact the immune system's ability to fight off infections?\n",
            "30 What are the primary risk factors associated with hypertension (high blood pressure)?\n"
          ]
        }
      ]
    },
    {
      "cell_type": "code",
      "source": [],
      "metadata": {
        "id": "HmXfjnY9onGo"
      },
      "execution_count": null,
      "outputs": []
    }
  ]
}